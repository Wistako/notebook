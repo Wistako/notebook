{
 "cells": [
  {
   "cell_type": "markdown",
   "id": "6624f385",
   "metadata": {},
   "source": [
    "# Funkcje"
   ]
  },
  {
   "cell_type": "markdown",
   "id": "5adac1c3",
   "metadata": {},
   "source": [
    "używamy słowa def"
   ]
  },
  {
   "cell_type": "code",
   "execution_count": 6,
   "id": "f4d1bc0b",
   "metadata": {},
   "outputs": [],
   "source": [
    "def sum(a,b):\n",
    "    return a + b"
   ]
  },
  {
   "cell_type": "markdown",
   "id": "599cb7e1",
   "metadata": {},
   "source": [
    "Przykład wywołania:"
   ]
  },
  {
   "cell_type": "code",
   "execution_count": 5,
   "id": "5e9a4953",
   "metadata": {},
   "outputs": [
    {
     "data": {
      "text/plain": [
       "12"
      ]
     },
     "execution_count": 5,
     "metadata": {},
     "output_type": "execute_result"
    }
   ],
   "source": [
    "sum(3,9)"
   ]
  },
  {
   "cell_type": "code",
   "execution_count": null,
   "id": "9351c6c8",
   "metadata": {},
   "outputs": [],
   "source": []
  }
 ],
 "metadata": {
  "kernelspec": {
   "display_name": "Python 3 (ipykernel)",
   "language": "python",
   "name": "python3"
  },
  "language_info": {
   "codemirror_mode": {
    "name": "ipython",
    "version": 3
   },
   "file_extension": ".py",
   "mimetype": "text/x-python",
   "name": "python",
   "nbconvert_exporter": "python",
   "pygments_lexer": "ipython3",
   "version": "3.12.6"
  }
 },
 "nbformat": 4,
 "nbformat_minor": 5
}
